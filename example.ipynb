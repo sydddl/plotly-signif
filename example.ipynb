{
 "cells": [
  {
   "cell_type": "code",
   "execution_count": 1,
   "metadata": {},
   "outputs": [],
   "source": [
    "from plotly_signif import *\n",
    "import pandas as pd\n",
    "iris = pd.read_csv('https://raw.githubusercontent.com/mwaskom/seaborn-data/master/iris.csv')"
   ]
  },
  {
   "cell_type": "code",
   "execution_count": 2,
   "metadata": {},
   "outputs": [
    {
     "data": {
      "text/html": [
       "<div>\n",
       "<style scoped>\n",
       "    .dataframe tbody tr th:only-of-type {\n",
       "        vertical-align: middle;\n",
       "    }\n",
       "\n",
       "    .dataframe tbody tr th {\n",
       "        vertical-align: top;\n",
       "    }\n",
       "\n",
       "    .dataframe thead th {\n",
       "        text-align: right;\n",
       "    }\n",
       "</style>\n",
       "<table border=\"1\" class=\"dataframe\">\n",
       "  <thead>\n",
       "    <tr style=\"text-align: right;\">\n",
       "      <th></th>\n",
       "      <th>sepal_length</th>\n",
       "      <th>sepal_width</th>\n",
       "      <th>petal_length</th>\n",
       "      <th>petal_width</th>\n",
       "    </tr>\n",
       "    <tr>\n",
       "      <th>species</th>\n",
       "      <th></th>\n",
       "      <th></th>\n",
       "      <th></th>\n",
       "      <th></th>\n",
       "    </tr>\n",
       "  </thead>\n",
       "  <tbody>\n",
       "    <tr>\n",
       "      <th>setosa</th>\n",
       "      <td>5.006</td>\n",
       "      <td>3.428</td>\n",
       "      <td>1.462</td>\n",
       "      <td>0.246</td>\n",
       "    </tr>\n",
       "    <tr>\n",
       "      <th>versicolor</th>\n",
       "      <td>5.936</td>\n",
       "      <td>2.770</td>\n",
       "      <td>4.260</td>\n",
       "      <td>1.326</td>\n",
       "    </tr>\n",
       "    <tr>\n",
       "      <th>virginica</th>\n",
       "      <td>6.588</td>\n",
       "      <td>2.974</td>\n",
       "      <td>5.552</td>\n",
       "      <td>2.026</td>\n",
       "    </tr>\n",
       "  </tbody>\n",
       "</table>\n",
       "</div>"
      ],
      "text/plain": [
       "            sepal_length  sepal_width  petal_length  petal_width\n",
       "species                                                         \n",
       "setosa             5.006        3.428         1.462        0.246\n",
       "versicolor         5.936        2.770         4.260        1.326\n",
       "virginica          6.588        2.974         5.552        2.026"
      ]
     },
     "execution_count": 2,
     "metadata": {},
     "output_type": "execute_result"
    }
   ],
   "source": [
    "df1 = iris.groupby(\"species\").mean()\n",
    "df2 = iris.groupby(\"species\").sem()\n",
    "df1"
   ]
  },
  {
   "cell_type": "code",
   "execution_count": 8,
   "metadata": {},
   "outputs": [
    {
     "data": {
      "application/vnd.plotly.v1+json": {
       "config": {
        "plotlyServerURL": "https://plot.ly"
       },
       "data": [
        {
         "error_y": {
          "array": [
           0.0498495696253913,
           0.07299762366833931,
           0.08992695448449892
          ],
          "color": "black",
          "thickness": 1.6,
          "type": "data",
          "visible": true,
          "width": 4
         },
         "marker": {
          "color": "#5044f3",
          "line": {
           "color": "rgba(22, 24, 27, 0.7)",
           "width": 0
          }
         },
         "name": "sepal_length",
         "textfont": {
          "family": "Raleway"
         },
         "type": "bar",
         "width": 0.125,
         "x": [
          "setosa",
          "versicolor",
          "virginica"
         ],
         "y": [
          5.006,
          5.936,
          6.587999999999999
         ]
        },
        {
         "error_y": {
          "array": [
           0.05360779717883721,
           0.044377784477168766,
           0.04560791195234728
          ],
          "color": "black",
          "thickness": 1.6,
          "type": "data",
          "visible": true,
          "width": 4
         },
         "marker": {
          "color": "#8ca0f7",
          "line": {
           "color": "rgba(22, 24, 27, 0.7)",
           "width": 0
          }
         },
         "name": "sepal_width",
         "textfont": {
          "family": "Raleway"
         },
         "type": "bar",
         "width": 0.125,
         "x": [
          "setosa",
          "versicolor",
          "virginica"
         ],
         "y": [
          3.428,
          2.77,
          2.9739999999999998
         ]
        },
        {
         "error_y": {
          "array": [
           0.02455979791181898,
           0.06645544771207432,
           0.07804969636097772
          ],
          "color": "black",
          "thickness": 1.6,
          "type": "data",
          "visible": true,
          "width": 4
         },
         "marker": {
          "color": "rgba(104, 135, 255,0.4)",
          "line": {
           "color": "rgba(22, 24, 27, 0.7)",
           "width": 0
          }
         },
         "name": "petal_length",
         "textfont": {
          "family": "Raleway"
         },
         "type": "bar",
         "width": 0.125,
         "x": [
          "setosa",
          "versicolor",
          "virginica"
         ],
         "y": [
          1.462,
          4.26,
          5.5520000000000005
         ]
        },
        {
         "error_y": {
          "array": [
           0.014903772977994256,
           0.0279664522058053,
           0.03884138335879002
          ],
          "color": "black",
          "thickness": 1.6,
          "type": "data",
          "visible": true,
          "width": 4
         },
         "marker": {
          "color": "#4DECB9",
          "line": {
           "color": "rgba(22, 24, 27, 0.7)",
           "width": 0
          }
         },
         "name": "petal_width",
         "textfont": {
          "family": "Raleway"
         },
         "type": "bar",
         "width": 0.125,
         "x": [
          "setosa",
          "versicolor",
          "virginica"
         ],
         "y": [
          0.24600000000000002,
          1.3259999999999998,
          2.026
         ]
        }
       ],
       "layout": {
        "annotations": [
         {
          "font": {
           "color": "black",
           "size": 16
          },
          "name": "p-value",
          "showarrow": false,
          "text": "***",
          "x": 0.5,
          "xref": "x",
          "y": 7.1216279999999985,
          "yref": "y"
         },
         {
          "font": {
           "color": "rgba(100,100,100,1)",
           "size": 16
          },
          "name": "p-value",
          "showarrow": false,
          "text": "***",
          "x": 2,
          "xref": "x",
          "y": 8.333819999999998,
          "yref": "y"
         },
         {
          "font": {
           "color": "rgba(100,100,100,1)",
           "size": 16
          },
          "name": "p-value",
          "showarrow": false,
          "text": "***",
          "x": 2,
          "xref": "x",
          "y": 6.5155319999999985,
          "yref": "y"
         },
         {
          "font": {
           "color": "rgba(100,100,100,1)",
           "size": 16
          },
          "name": "p-value",
          "showarrow": false,
          "text": "***",
          "x": 0.09375,
          "xref": "x",
          "y": 4.091148,
          "yref": "y"
         },
         {
          "font": {
           "color": "rgba(100,100,100,1)",
           "size": 16
          },
          "name": "p-value",
          "showarrow": false,
          "text": "***",
          "x": 0.1875,
          "xref": "x",
          "y": 2.272859999999999,
          "yref": "y"
         },
         {
          "font": {
           "color": "rgba(100,100,100,1)",
           "size": 16
          },
          "name": "p-value",
          "showarrow": false,
          "text": "🏅",
          "x": 1.1875,
          "xref": "x",
          "y": 6.060959999999999,
          "yref": "y"
         },
         {
          "font": {
           "color": "rgba(100,100,100,1)",
           "size": 16
          },
          "name": "p-value",
          "showarrow": false,
          "text": "😭",
          "x": 1,
          "xref": "x",
          "y": 5.454863999999998,
          "yref": "y"
         },
         {
          "font": {
           "color": "rgba(100,100,100,1)",
           "size": 12
          },
          "name": "p-value",
          "showarrow": false,
          "text": "⭐⭐⭐",
          "x": 0.90625,
          "xref": "x",
          "y": 6.667055999999998,
          "yref": "y"
         },
         {
          "font": {
           "color": "black",
           "size": 14
          },
          "name": "p-value",
          "showarrow": false,
          "text": "ns",
          "x": 1.5,
          "xref": "x",
          "y": 7.818638399999998,
          "yref": "y"
         }
        ],
        "bargap": 0.25,
        "barmode": "group",
        "dragmode": "select",
        "height": 550,
        "hovermode": "closest",
        "legend": {
         "font": {
          "size": 16
         },
         "orientation": "h",
         "traceorder": "normal",
         "x": 0.1,
         "y": -0.1
        },
        "plot_bgcolor": "#ffffff",
        "shapes": [
         {
          "line": {
           "color": "rgba(0,0,0,1)",
           "width": 1.5
          },
          "type": "line",
          "x0": "setosa",
          "x1": "versicolor",
          "y0": 6.970103999999998,
          "y1": 6.970103999999998
         },
         {
          "line": {
           "color": "rgba(0,0,0,1)",
           "width": 1.5
          },
          "type": "line",
          "x0": "setosa",
          "x1": "setosa",
          "y0": 6.7806989999999985,
          "y1": 6.970103999999998
         },
         {
          "line": {
           "color": "rgba(0,0,0,1)",
           "width": 1.5
          },
          "type": "line",
          "x0": "versicolor",
          "x1": "versicolor",
          "y0": 6.7806989999999985,
          "y1": 6.970103999999998
         },
         {
          "line": {
           "color": "rgba(100,100,100,1)",
           "width": 1.5
          },
          "type": "line",
          "x0": 1.71875,
          "x1": 2.28125,
          "y0": 8.182295999999997,
          "y1": 8.182295999999997
         },
         {
          "line": {
           "color": "rgba(100,100,100,1)",
           "width": 1.5
          },
          "type": "line",
          "x0": 1.71875,
          "x1": 1.71875,
          "y0": 8.049712499999998,
          "y1": 8.182295999999997
         },
         {
          "line": {
           "color": "rgba(100,100,100,1)",
           "width": 1.5
          },
          "type": "line",
          "x0": 2.28125,
          "x1": 2.28125,
          "y0": 8.049712499999998,
          "y1": 8.182295999999997
         },
         {
          "line": {
           "color": "rgba(100,100,100,1)",
           "width": 1.5
          },
          "type": "line",
          "x0": 1.90625,
          "x1": 2.09375,
          "y0": 6.364007999999998,
          "y1": 6.364007999999998
         },
         {
          "line": {
           "color": "rgba(100,100,100,1)",
           "width": 1.5
          },
          "type": "line",
          "x0": 1.90625,
          "x1": 1.90625,
          "y0": 6.231424499999998,
          "y1": 6.364007999999998
         },
         {
          "line": {
           "color": "rgba(100,100,100,1)",
           "width": 1.5
          },
          "type": "line",
          "x0": 2.09375,
          "x1": 2.09375,
          "y0": 6.231424499999998,
          "y1": 6.364007999999998
         },
         {
          "line": {
           "color": "rgba(100,100,100,1)",
           "width": 1.5
          },
          "type": "line",
          "x0": -0.09375,
          "x1": 0.28125,
          "y0": 3.9396239999999993,
          "y1": 3.9396239999999993
         },
         {
          "line": {
           "color": "rgba(100,100,100,1)",
           "width": 1.5
          },
          "type": "line",
          "x0": -0.09375,
          "x1": -0.09375,
          "y0": 3.8070404999999994,
          "y1": 3.9396239999999993
         },
         {
          "line": {
           "color": "rgba(100,100,100,1)",
           "width": 1.5
          },
          "type": "line",
          "x0": 0.28125,
          "x1": 0.28125,
          "y0": 3.8070404999999994,
          "y1": 3.9396239999999993
         },
         {
          "line": {
           "color": "rgba(100,100,100,1)",
           "width": 1.5
          },
          "type": "line",
          "x0": 0.09375,
          "x1": 0.28125,
          "y0": 2.1213359999999994,
          "y1": 2.1213359999999994
         },
         {
          "line": {
           "color": "rgba(100,100,100,1)",
           "width": 1.5
          },
          "type": "line",
          "x0": 0.09375,
          "x1": 0.09375,
          "y0": 1.9887524999999995,
          "y1": 2.1213359999999994
         },
         {
          "line": {
           "color": "rgba(100,100,100,1)",
           "width": 1.5
          },
          "type": "line",
          "x0": 0.28125,
          "x1": 0.28125,
          "y0": 1.9887524999999995,
          "y1": 2.1213359999999994
         },
         {
          "line": {
           "color": "rgba(100,100,100,1)",
           "width": 1.5
          },
          "type": "line",
          "x0": 1.09375,
          "x1": 1.28125,
          "y0": 5.757911999999999,
          "y1": 5.757911999999999
         },
         {
          "line": {
           "color": "rgba(100,100,100,1)",
           "width": 1.5
          },
          "type": "line",
          "x0": 1.09375,
          "x1": 1.09375,
          "y0": 5.625328499999999,
          "y1": 5.757911999999999
         },
         {
          "line": {
           "color": "rgba(100,100,100,1)",
           "width": 1.5
          },
          "type": "line",
          "x0": 1.28125,
          "x1": 1.28125,
          "y0": 5.625328499999999,
          "y1": 5.757911999999999
         },
         {
          "line": {
           "color": "rgba(100,100,100,1)",
           "width": 1.5
          },
          "type": "line",
          "x0": 0.90625,
          "x1": 1.09375,
          "y0": 5.151815999999998,
          "y1": 5.151815999999998
         },
         {
          "line": {
           "color": "rgba(100,100,100,1)",
           "width": 1.5
          },
          "type": "line",
          "x0": 0.90625,
          "x1": 0.90625,
          "y0": 5.019232499999998,
          "y1": 5.151815999999998
         },
         {
          "line": {
           "color": "rgba(100,100,100,1)",
           "width": 1.5
          },
          "type": "line",
          "x0": 1.09375,
          "x1": 1.09375,
          "y0": 5.019232499999998,
          "y1": 5.151815999999998
         },
         {
          "line": {
           "color": "rgba(100,100,100,1)",
           "width": 1.5
          },
          "type": "line",
          "x0": 0.71875,
          "x1": 1.09375,
          "y0": 6.364007999999998,
          "y1": 6.364007999999998
         },
         {
          "line": {
           "color": "rgba(100,100,100,1)",
           "width": 1.5
          },
          "type": "line",
          "x0": 0.71875,
          "x1": 0.71875,
          "y0": 6.231424499999998,
          "y1": 6.364007999999998
         },
         {
          "line": {
           "color": "rgba(100,100,100,1)",
           "width": 1.5
          },
          "type": "line",
          "x0": 1.09375,
          "x1": 1.09375,
          "y0": 6.231424499999998,
          "y1": 6.364007999999998
         },
         {
          "line": {
           "color": "rgba(0,0,0,1)",
           "width": 1.5
          },
          "type": "line",
          "x0": "versicolor",
          "x1": "virginica",
          "y0": 7.576199999999998,
          "y1": 7.576199999999998
         },
         {
          "line": {
           "color": "rgba(0,0,0,1)",
           "width": 1.5
          },
          "type": "line",
          "x0": "versicolor",
          "x1": "versicolor",
          "y0": 7.3867949999999984,
          "y1": 7.576199999999998
         },
         {
          "line": {
           "color": "rgba(0,0,0,1)",
           "width": 1.5
          },
          "type": "line",
          "x0": "virginica",
          "x1": "virginica",
          "y0": 7.3867949999999984,
          "y1": 7.576199999999998
         }
        ],
        "template": {
         "data": {
          "bar": [
           {
            "error_x": {
             "color": "#2a3f5f"
            },
            "error_y": {
             "color": "#2a3f5f"
            },
            "marker": {
             "line": {
              "color": "#E5ECF6",
              "width": 0.5
             },
             "pattern": {
              "fillmode": "overlay",
              "size": 10,
              "solidity": 0.2
             }
            },
            "type": "bar"
           }
          ],
          "barpolar": [
           {
            "marker": {
             "line": {
              "color": "#E5ECF6",
              "width": 0.5
             },
             "pattern": {
              "fillmode": "overlay",
              "size": 10,
              "solidity": 0.2
             }
            },
            "type": "barpolar"
           }
          ],
          "carpet": [
           {
            "aaxis": {
             "endlinecolor": "#2a3f5f",
             "gridcolor": "white",
             "linecolor": "white",
             "minorgridcolor": "white",
             "startlinecolor": "#2a3f5f"
            },
            "baxis": {
             "endlinecolor": "#2a3f5f",
             "gridcolor": "white",
             "linecolor": "white",
             "minorgridcolor": "white",
             "startlinecolor": "#2a3f5f"
            },
            "type": "carpet"
           }
          ],
          "choropleth": [
           {
            "colorbar": {
             "outlinewidth": 0,
             "ticks": ""
            },
            "type": "choropleth"
           }
          ],
          "contour": [
           {
            "colorbar": {
             "outlinewidth": 0,
             "ticks": ""
            },
            "colorscale": [
             [
              0,
              "#0d0887"
             ],
             [
              0.1111111111111111,
              "#46039f"
             ],
             [
              0.2222222222222222,
              "#7201a8"
             ],
             [
              0.3333333333333333,
              "#9c179e"
             ],
             [
              0.4444444444444444,
              "#bd3786"
             ],
             [
              0.5555555555555556,
              "#d8576b"
             ],
             [
              0.6666666666666666,
              "#ed7953"
             ],
             [
              0.7777777777777778,
              "#fb9f3a"
             ],
             [
              0.8888888888888888,
              "#fdca26"
             ],
             [
              1,
              "#f0f921"
             ]
            ],
            "type": "contour"
           }
          ],
          "contourcarpet": [
           {
            "colorbar": {
             "outlinewidth": 0,
             "ticks": ""
            },
            "type": "contourcarpet"
           }
          ],
          "heatmap": [
           {
            "colorbar": {
             "outlinewidth": 0,
             "ticks": ""
            },
            "colorscale": [
             [
              0,
              "#0d0887"
             ],
             [
              0.1111111111111111,
              "#46039f"
             ],
             [
              0.2222222222222222,
              "#7201a8"
             ],
             [
              0.3333333333333333,
              "#9c179e"
             ],
             [
              0.4444444444444444,
              "#bd3786"
             ],
             [
              0.5555555555555556,
              "#d8576b"
             ],
             [
              0.6666666666666666,
              "#ed7953"
             ],
             [
              0.7777777777777778,
              "#fb9f3a"
             ],
             [
              0.8888888888888888,
              "#fdca26"
             ],
             [
              1,
              "#f0f921"
             ]
            ],
            "type": "heatmap"
           }
          ],
          "heatmapgl": [
           {
            "colorbar": {
             "outlinewidth": 0,
             "ticks": ""
            },
            "colorscale": [
             [
              0,
              "#0d0887"
             ],
             [
              0.1111111111111111,
              "#46039f"
             ],
             [
              0.2222222222222222,
              "#7201a8"
             ],
             [
              0.3333333333333333,
              "#9c179e"
             ],
             [
              0.4444444444444444,
              "#bd3786"
             ],
             [
              0.5555555555555556,
              "#d8576b"
             ],
             [
              0.6666666666666666,
              "#ed7953"
             ],
             [
              0.7777777777777778,
              "#fb9f3a"
             ],
             [
              0.8888888888888888,
              "#fdca26"
             ],
             [
              1,
              "#f0f921"
             ]
            ],
            "type": "heatmapgl"
           }
          ],
          "histogram": [
           {
            "marker": {
             "pattern": {
              "fillmode": "overlay",
              "size": 10,
              "solidity": 0.2
             }
            },
            "type": "histogram"
           }
          ],
          "histogram2d": [
           {
            "colorbar": {
             "outlinewidth": 0,
             "ticks": ""
            },
            "colorscale": [
             [
              0,
              "#0d0887"
             ],
             [
              0.1111111111111111,
              "#46039f"
             ],
             [
              0.2222222222222222,
              "#7201a8"
             ],
             [
              0.3333333333333333,
              "#9c179e"
             ],
             [
              0.4444444444444444,
              "#bd3786"
             ],
             [
              0.5555555555555556,
              "#d8576b"
             ],
             [
              0.6666666666666666,
              "#ed7953"
             ],
             [
              0.7777777777777778,
              "#fb9f3a"
             ],
             [
              0.8888888888888888,
              "#fdca26"
             ],
             [
              1,
              "#f0f921"
             ]
            ],
            "type": "histogram2d"
           }
          ],
          "histogram2dcontour": [
           {
            "colorbar": {
             "outlinewidth": 0,
             "ticks": ""
            },
            "colorscale": [
             [
              0,
              "#0d0887"
             ],
             [
              0.1111111111111111,
              "#46039f"
             ],
             [
              0.2222222222222222,
              "#7201a8"
             ],
             [
              0.3333333333333333,
              "#9c179e"
             ],
             [
              0.4444444444444444,
              "#bd3786"
             ],
             [
              0.5555555555555556,
              "#d8576b"
             ],
             [
              0.6666666666666666,
              "#ed7953"
             ],
             [
              0.7777777777777778,
              "#fb9f3a"
             ],
             [
              0.8888888888888888,
              "#fdca26"
             ],
             [
              1,
              "#f0f921"
             ]
            ],
            "type": "histogram2dcontour"
           }
          ],
          "mesh3d": [
           {
            "colorbar": {
             "outlinewidth": 0,
             "ticks": ""
            },
            "type": "mesh3d"
           }
          ],
          "parcoords": [
           {
            "line": {
             "colorbar": {
              "outlinewidth": 0,
              "ticks": ""
             }
            },
            "type": "parcoords"
           }
          ],
          "pie": [
           {
            "automargin": true,
            "type": "pie"
           }
          ],
          "scatter": [
           {
            "fillpattern": {
             "fillmode": "overlay",
             "size": 10,
             "solidity": 0.2
            },
            "type": "scatter"
           }
          ],
          "scatter3d": [
           {
            "line": {
             "colorbar": {
              "outlinewidth": 0,
              "ticks": ""
             }
            },
            "marker": {
             "colorbar": {
              "outlinewidth": 0,
              "ticks": ""
             }
            },
            "type": "scatter3d"
           }
          ],
          "scattercarpet": [
           {
            "marker": {
             "colorbar": {
              "outlinewidth": 0,
              "ticks": ""
             }
            },
            "type": "scattercarpet"
           }
          ],
          "scattergeo": [
           {
            "marker": {
             "colorbar": {
              "outlinewidth": 0,
              "ticks": ""
             }
            },
            "type": "scattergeo"
           }
          ],
          "scattergl": [
           {
            "marker": {
             "colorbar": {
              "outlinewidth": 0,
              "ticks": ""
             }
            },
            "type": "scattergl"
           }
          ],
          "scattermapbox": [
           {
            "marker": {
             "colorbar": {
              "outlinewidth": 0,
              "ticks": ""
             }
            },
            "type": "scattermapbox"
           }
          ],
          "scatterpolar": [
           {
            "marker": {
             "colorbar": {
              "outlinewidth": 0,
              "ticks": ""
             }
            },
            "type": "scatterpolar"
           }
          ],
          "scatterpolargl": [
           {
            "marker": {
             "colorbar": {
              "outlinewidth": 0,
              "ticks": ""
             }
            },
            "type": "scatterpolargl"
           }
          ],
          "scatterternary": [
           {
            "marker": {
             "colorbar": {
              "outlinewidth": 0,
              "ticks": ""
             }
            },
            "type": "scatterternary"
           }
          ],
          "surface": [
           {
            "colorbar": {
             "outlinewidth": 0,
             "ticks": ""
            },
            "colorscale": [
             [
              0,
              "#0d0887"
             ],
             [
              0.1111111111111111,
              "#46039f"
             ],
             [
              0.2222222222222222,
              "#7201a8"
             ],
             [
              0.3333333333333333,
              "#9c179e"
             ],
             [
              0.4444444444444444,
              "#bd3786"
             ],
             [
              0.5555555555555556,
              "#d8576b"
             ],
             [
              0.6666666666666666,
              "#ed7953"
             ],
             [
              0.7777777777777778,
              "#fb9f3a"
             ],
             [
              0.8888888888888888,
              "#fdca26"
             ],
             [
              1,
              "#f0f921"
             ]
            ],
            "type": "surface"
           }
          ],
          "table": [
           {
            "cells": {
             "fill": {
              "color": "#EBF0F8"
             },
             "line": {
              "color": "white"
             }
            },
            "header": {
             "fill": {
              "color": "#C8D4E3"
             },
             "line": {
              "color": "white"
             }
            },
            "type": "table"
           }
          ]
         },
         "layout": {
          "annotationdefaults": {
           "arrowcolor": "#2a3f5f",
           "arrowhead": 0,
           "arrowwidth": 1
          },
          "autotypenumbers": "strict",
          "coloraxis": {
           "colorbar": {
            "outlinewidth": 0,
            "ticks": ""
           }
          },
          "colorscale": {
           "diverging": [
            [
             0,
             "#8e0152"
            ],
            [
             0.1,
             "#c51b7d"
            ],
            [
             0.2,
             "#de77ae"
            ],
            [
             0.3,
             "#f1b6da"
            ],
            [
             0.4,
             "#fde0ef"
            ],
            [
             0.5,
             "#f7f7f7"
            ],
            [
             0.6,
             "#e6f5d0"
            ],
            [
             0.7,
             "#b8e186"
            ],
            [
             0.8,
             "#7fbc41"
            ],
            [
             0.9,
             "#4d9221"
            ],
            [
             1,
             "#276419"
            ]
           ],
           "sequential": [
            [
             0,
             "#0d0887"
            ],
            [
             0.1111111111111111,
             "#46039f"
            ],
            [
             0.2222222222222222,
             "#7201a8"
            ],
            [
             0.3333333333333333,
             "#9c179e"
            ],
            [
             0.4444444444444444,
             "#bd3786"
            ],
            [
             0.5555555555555556,
             "#d8576b"
            ],
            [
             0.6666666666666666,
             "#ed7953"
            ],
            [
             0.7777777777777778,
             "#fb9f3a"
            ],
            [
             0.8888888888888888,
             "#fdca26"
            ],
            [
             1,
             "#f0f921"
            ]
           ],
           "sequentialminus": [
            [
             0,
             "#0d0887"
            ],
            [
             0.1111111111111111,
             "#46039f"
            ],
            [
             0.2222222222222222,
             "#7201a8"
            ],
            [
             0.3333333333333333,
             "#9c179e"
            ],
            [
             0.4444444444444444,
             "#bd3786"
            ],
            [
             0.5555555555555556,
             "#d8576b"
            ],
            [
             0.6666666666666666,
             "#ed7953"
            ],
            [
             0.7777777777777778,
             "#fb9f3a"
            ],
            [
             0.8888888888888888,
             "#fdca26"
            ],
            [
             1,
             "#f0f921"
            ]
           ]
          },
          "colorway": [
           "#636efa",
           "#EF553B",
           "#00cc96",
           "#ab63fa",
           "#FFA15A",
           "#19d3f3",
           "#FF6692",
           "#B6E880",
           "#FF97FF",
           "#FECB52"
          ],
          "font": {
           "color": "#2a3f5f"
          },
          "geo": {
           "bgcolor": "white",
           "lakecolor": "white",
           "landcolor": "#E5ECF6",
           "showlakes": true,
           "showland": true,
           "subunitcolor": "white"
          },
          "hoverlabel": {
           "align": "left"
          },
          "hovermode": "closest",
          "mapbox": {
           "style": "light"
          },
          "paper_bgcolor": "white",
          "plot_bgcolor": "#E5ECF6",
          "polar": {
           "angularaxis": {
            "gridcolor": "white",
            "linecolor": "white",
            "ticks": ""
           },
           "bgcolor": "#E5ECF6",
           "radialaxis": {
            "gridcolor": "white",
            "linecolor": "white",
            "ticks": ""
           }
          },
          "scene": {
           "xaxis": {
            "backgroundcolor": "#E5ECF6",
            "gridcolor": "white",
            "gridwidth": 2,
            "linecolor": "white",
            "showbackground": true,
            "ticks": "",
            "zerolinecolor": "white"
           },
           "yaxis": {
            "backgroundcolor": "#E5ECF6",
            "gridcolor": "white",
            "gridwidth": 2,
            "linecolor": "white",
            "showbackground": true,
            "ticks": "",
            "zerolinecolor": "white"
           },
           "zaxis": {
            "backgroundcolor": "#E5ECF6",
            "gridcolor": "white",
            "gridwidth": 2,
            "linecolor": "white",
            "showbackground": true,
            "ticks": "",
            "zerolinecolor": "white"
           }
          },
          "shapedefaults": {
           "line": {
            "color": "#2a3f5f"
           }
          },
          "ternary": {
           "aaxis": {
            "gridcolor": "white",
            "linecolor": "white",
            "ticks": ""
           },
           "baxis": {
            "gridcolor": "white",
            "linecolor": "white",
            "ticks": ""
           },
           "bgcolor": "#E5ECF6",
           "caxis": {
            "gridcolor": "white",
            "linecolor": "white",
            "ticks": ""
           }
          },
          "title": {
           "x": 0.05
          },
          "xaxis": {
           "automargin": true,
           "gridcolor": "white",
           "linecolor": "white",
           "ticks": "",
           "title": {
            "standoff": 15
           },
           "zerolinecolor": "white",
           "zerolinewidth": 2
          },
          "yaxis": {
           "automargin": true,
           "gridcolor": "white",
           "linecolor": "white",
           "ticks": "",
           "title": {
            "standoff": 15
           },
           "zerolinecolor": "white",
           "zerolinewidth": 2
          }
         }
        },
        "width": 500,
        "xaxis": {
         "gridcolor": "#EEEEEE",
         "linecolor": "black",
         "linewidth": 3,
         "showline": true,
         "tickangle": 0,
         "tickfont": {
          "color": "black",
          "size": 18
         },
         "ticks": "outside",
         "title": {
          "font": {
           "color": "black",
           "size": 16
          },
          "text": ""
         }
        },
        "yaxis": {
         "linecolor": "black",
         "linewidth": 3,
         "showline": true,
         "showticklabels": true,
         "tickfont": {
          "size": 16
         },
         "tickmode": "auto",
         "ticks": "outside",
         "title": {
          "font": {
           "color": "black",
           "size": 20
          },
          "standoff": 10,
          "text": ""
         }
        }
       }
      }
     },
     "metadata": {},
     "output_type": "display_data"
    }
   ],
   "source": [
    "test = plotly_signif(data=df1,error=df2,text={\"x\":\"\",\"y\":\"\"})  \n",
    "test.plot()\n",
    "# 添加统计注释\n",
    "annotation_list = [[0,1,1],[2,0,3,-1],[2,1,2,2],[0,1,3,6],[0,2,3,9]]\n",
    "test.add_annotations(annotation_list = annotation_list,text=\"***\")   \n",
    "test.add_annotations(annotation_list = [[1,2,3,3]],text=\"🏅\",sign_d_index=2) \n",
    "test.add_annotations(annotation_list = [[1,1,2,4]],text=\"😭\",sign_d_index=2) \n",
    "test.add_annotations(annotation_list = [[1,0,2,2]],text=\"⭐⭐⭐\",sign_d_index=2,size=12) \n",
    "test.add_annotations(annotation_list = [[1,2,0]],text=\"ns\",size=14,sign_d_index=2.5) \n",
    "# 绘制/保存\n",
    "test.show(\"./image/example.png\")  # 保存使用属性 save_path = \"./image/example.png\" "
   ]
  }
 ],
 "metadata": {
  "kernelspec": {
   "display_name": "deeplearn",
   "language": "python",
   "name": "python3"
  },
  "language_info": {
   "codemirror_mode": {
    "name": "ipython",
    "version": 3
   },
   "file_extension": ".py",
   "mimetype": "text/x-python",
   "name": "python",
   "nbconvert_exporter": "python",
   "pygments_lexer": "ipython3",
   "version": "3.8.16"
  },
  "orig_nbformat": 4
 },
 "nbformat": 4,
 "nbformat_minor": 2
}
